{
  "cells": [
    {
      "cell_type": "markdown",
      "metadata": {
        "id": "UuPdnyWXh7vb"
      },
      "source": [
        "# Natural Language Processing Demystified | Word Vectors\n",
        "https://nlpdemystified.org<br>\n",
        "https://github.com/futuremojo/nlp-demystified<br><br>\n",
        "Course module for this demo: https://www.nlpdemystified.org/course/word-vectors"
      ]
    },
    {
      "cell_type": "markdown",
      "metadata": {
        "id": "91LZr9ogtHi_"
      },
      "source": [
        "**IMPORTANT**<br>\n",
        "Enable **GPU acceleration** by going to *Runtime > Change Runtime Type*. Keep in mind that, on certain tiers, you're not guaranteed GPU access depending on usage history and current load.\n",
        "<br><br>\n",
        "Also, if you're running this in the cloud rather than a local Jupyter server on your machine, then the notebook will *timeout* after a period of inactivity.\n",
        "<br><br>\n",
        "Refer to this link on how to run Colab notebooks locally on your machine to avoid this issue:<br>\n",
        "https://research.google.com/colaboratory/local-runtimes.html"
      ]
    },
    {
      "cell_type": "markdown",
      "metadata": {
        "id": "qOE58pxDZqah"
      },
      "source": [
        "To demonstrate word vectors, we're going to use **Gensim** which we first encountered in the [topic modelling](https://www.nlpdemystified.org/course/topic-modelling) module.<br>\n",
        "\n",
        "At the time of this recording, the default Gensim version in Colab was 3.X, so we'll first upgrade to 4.X."
      ]
    },
    {
      "cell_type": "code",
      "execution_count": 1,
      "metadata": {
        "id": "2vNBSTzIKkRT"
      },
      "outputs": [
        {
          "name": "stdout",
          "output_type": "stream",
          "text": [
            "zsh:1: no matches found: gensim==4.*\n"
          ]
        }
      ],
      "source": [
        "# Upgrade gensim just in case.\n",
        "#!pip install -U gensim==4.*\n"
      ]
    },
    {
      "cell_type": "code",
      "execution_count": 8,
      "metadata": {
        "id": "kIMAMpBaoqkP"
      },
      "outputs": [],
      "source": [
        "import collections\n",
        "import matplotlib.pyplot as plt\n",
        "import numpy as np\n",
        "import pandas as pd\n",
        "import spacy\n",
        "import tensorflow as tf\n",
        "\n",
        "from gensim.models.keyedvectors import KeyedVectors\n",
        "from sklearn.decomposition import PCA\n",
        "from sklearn.model_selection import train_test_split\n",
        "from tensorflow import keras\n",
        "from tensorflow.keras import layers"
      ]
    },
    {
      "cell_type": "markdown",
      "metadata": {
        "id": "SBQlbyiVY3WJ"
      },
      "source": [
        "**NOTE**<br>\n",
        "In this notebook, we won't train standalone word embeddings from scratch. Rather, we'll:\n",
        "1. Use *pretrained* embeddings in one model.\n",
        "2. Train embeddings alongside another model.\n",
        "<br>\n",
        "\n",
        "If you want to try training standalone word embeddings, coding Skip-Gram With Negative Sampling (SGNS) from scratch shouldn't be too hard now that you know all the details. But I recommend just using the **Gensim** library instead:<br>\n",
        "https://radimrehurek.com/gensim/models/word2vec.html<br>\n",
        "https://radimrehurek.com/gensim/auto_examples/tutorials/run_word2vec.html\n",
        "\n"
      ]
    },
    {
      "cell_type": "markdown",
      "metadata": {
        "id": "A_rgKP1vJ2kT"
      },
      "source": [
        "# Using Pretrained, Third-Party Vectors"
      ]
    },
    {
      "cell_type": "markdown",
      "metadata": {
        "id": "RHMDs5FPKXUx"
      },
      "source": [
        "There are a variety of pretrained, static word vector packages out there. In this section, we'll use the **Google News** vectors, a collection of three million, 300-dimension word vectors trained from three billion words from a Google News corpus (circa 2015)."
      ]
    },
    {
      "cell_type": "markdown",
      "metadata": {
        "id": "lQEAXBoBMidI"
      },
      "source": [
        "We'll need to first download the actual word vectors. It's over a gigabyte in size but will fit within our environment."
      ]
    },
    {
      "cell_type": "code",
      "execution_count": 6,
      "metadata": {
        "id": "dIKSA-KMbj8E"
      },
      "outputs": [
        {
          "name": "stdout",
          "output_type": "stream",
          "text": [
            "Access denied with the following error:\n",
            "\n",
            " \tCannot retrieve the public link of the file. You may need to change\n",
            "\tthe permission to 'Anyone with the link', or have had many accesses. \n",
            "\n",
            "You may still be able to access the file from the browser:\n",
            "\n",
            "\t https://drive.google.com/uc?id=1BpfbHu4denceXiv8yfdY3EHgjKIcULku \n",
            "\n"
          ]
        }
      ],
      "source": [
        "!gdown \"https://drive.google.com/uc?id=1BpfbHu4denceXiv8yfdY3EHgjKIcULku\""
      ]
    },
    {
      "cell_type": "code",
      "execution_count": 6,
      "metadata": {
        "id": "6FtVSlPQbj4F"
      },
      "outputs": [],
      "source": [
        "embedding_file = 'files/GoogleNews-vectors-negative300.bin.gz'"
      ]
    },
    {
      "cell_type": "markdown",
      "metadata": {
        "id": "BXQRngPaPWhE"
      },
      "source": [
        "Next, we'll have **gensim** load the vectors through the **KeyedVectors** module which will enable us to look up vectors by tokens and indices.<br>\n",
        "https://radimrehurek.com/gensim/models/keyedvectors.html\n",
        "<br><br>\n",
        "To save time and space, we'll limit ourselves to 200,000 word vectors for now."
      ]
    },
    {
      "cell_type": "code",
      "execution_count": 9,
      "metadata": {
        "id": "dmRUiKPObjqM"
      },
      "outputs": [
        {
          "name": "stdout",
          "output_type": "stream",
          "text": [
            "CPU times: user 1.51 s, sys: 76.1 ms, total: 1.59 s\n",
            "Wall time: 1.68 s\n"
          ]
        }
      ],
      "source": [
        "%%time\n",
        "word_vectors = KeyedVectors.load_word2vec_format(embedding_file, binary=True, limit=200000)"
      ]
    },
    {
      "cell_type": "markdown",
      "metadata": {
        "id": "ir22T0t3QqPS"
      },
      "source": [
        "Retrieving a word's vector is a matter of using a token as a key."
      ]
    },
    {
      "cell_type": "code",
      "execution_count": 10,
      "metadata": {
        "id": "wm9lDs3Vfv12"
      },
      "outputs": [
        {
          "name": "stdout",
          "output_type": "stream",
          "text": [
            "Vector dimension: (300,)\n",
            "[-1.25976562e-01  2.53906250e-02  1.66992188e-01  5.50781250e-01\n",
            " -7.66601562e-02  1.28906250e-01  1.02539062e-01 -3.94821167e-04\n",
            "  1.21582031e-01  4.32128906e-02  1.72851562e-01 -6.83593750e-02\n",
            "  3.41796875e-01  8.39843750e-02  6.68945312e-02  2.67578125e-01\n",
            " -3.71093750e-02 -5.56640625e-02  1.80664062e-01  1.90429688e-02\n",
            " -5.07812500e-02  9.03320312e-03  1.76757812e-01  6.49414062e-02\n",
            " -6.25000000e-02 -9.42382812e-02 -9.71679688e-02  4.00390625e-01\n",
            "  1.15234375e-01  1.02539062e-01 -1.86767578e-02 -2.69531250e-01\n",
            "  1.80664062e-01  1.25000000e-01 -3.17382812e-02 -5.49316406e-02\n",
            "  3.45703125e-01 -1.57470703e-02  1.82390213e-05  2.07031250e-01\n",
            " -1.25976562e-01 -2.83203125e-01  2.00195312e-01  8.34960938e-02\n",
            " -4.73632812e-02 -3.11279297e-02 -2.61718750e-01  1.69921875e-01\n",
            " -2.02636719e-02  1.53320312e-01 -1.20605469e-01  3.75000000e-01\n",
            " -5.68847656e-02 -4.76074219e-03 -1.95312500e-01 -2.03125000e-01\n",
            "  3.00781250e-01 -1.01074219e-01 -3.18359375e-01 -9.03320312e-02\n",
            " -1.19140625e-01  1.95312500e-01 -8.78906250e-02  1.58203125e-01\n",
            "  1.51977539e-02 -1.60156250e-01 -3.30078125e-01 -4.66796875e-01\n",
            "  1.68945312e-01  2.23388672e-02  1.55273438e-01  1.08398438e-01\n",
            " -3.56445312e-02  9.13085938e-02 -8.69140625e-02 -1.20117188e-01\n",
            " -3.08593750e-01 -2.61230469e-02 -7.22656250e-02 -4.80468750e-01\n",
            "  3.78417969e-02 -1.35742188e-01 -1.02539062e-01 -2.91015625e-01\n",
            " -1.93359375e-01 -4.21875000e-01 -1.06445312e-01  3.55468750e-01\n",
            "  1.66992188e-01 -3.63159180e-03 -7.42187500e-02 -3.22265625e-01\n",
            " -7.51953125e-02 -8.25195312e-02 -2.91015625e-01 -1.25976562e-01\n",
            "  1.68457031e-02  5.00488281e-02  1.27929688e-01 -7.42187500e-02\n",
            " -1.30859375e-01 -2.46093750e-01  6.49414062e-02  1.53320312e-01\n",
            "  2.59765625e-01 -1.05468750e-01  3.57421875e-01 -4.29687500e-02\n",
            " -1.58203125e-01  8.20312500e-02 -5.98144531e-02 -2.34375000e-01\n",
            " -3.22265625e-01 -1.25976562e-01  5.39550781e-02 -1.87500000e-01\n",
            "  1.35742188e-01 -6.59179688e-02  8.36181641e-03 -1.84570312e-01\n",
            " -2.96875000e-01 -1.84570312e-01 -4.73632812e-02 -1.06445312e-01\n",
            " -6.93359375e-02  3.83300781e-02 -3.19824219e-02  3.63769531e-02\n",
            " -1.20117188e-01  1.76757812e-01 -1.15722656e-01  1.98974609e-02\n",
            "  8.64257812e-02  6.07910156e-02 -1.40625000e-01  3.30078125e-01\n",
            "  1.94335938e-01 -1.56250000e-01  3.92578125e-01  1.80816650e-03\n",
            "  7.27539062e-02 -2.53906250e-01 -3.54003906e-02  2.86865234e-03\n",
            " -1.72851562e-01  9.76562500e-03 -1.55639648e-02  3.23486328e-03\n",
            " -1.69921875e-01  1.55273438e-01  7.17773438e-02  4.10156250e-01\n",
            " -2.10937500e-01  1.31835938e-01  7.62939453e-03  4.78515625e-02\n",
            " -4.54101562e-02  7.32421875e-02 -4.06250000e-01 -2.06298828e-02\n",
            " -4.04296875e-01 -1.00585938e-01 -2.03125000e-01  1.55273438e-01\n",
            " -1.89453125e-01  6.59179688e-02  6.54296875e-02 -2.05078125e-01\n",
            "  5.46875000e-02 -3.06396484e-02 -1.54296875e-01 -2.61718750e-01\n",
            "  3.81469727e-03 -8.20312500e-02 -3.20312500e-01  2.84423828e-02\n",
            "  2.69531250e-01  1.73828125e-01 -1.66992188e-01  2.22656250e-01\n",
            "  6.34765625e-02 -1.96289062e-01  1.45507812e-01 -1.56250000e-02\n",
            "  2.60009766e-02 -6.29882812e-02  2.94189453e-02  3.28125000e-01\n",
            " -4.68750000e-02 -1.52343750e-01  6.98242188e-02  3.18359375e-01\n",
            " -1.08398438e-01  3.66210938e-02 -1.99218750e-01  1.64031982e-03\n",
            "  6.40869141e-03 -1.47460938e-01 -6.25000000e-02 -4.36401367e-03\n",
            " -2.75390625e-01  8.54492188e-02 -5.00488281e-02 -3.12500000e-01\n",
            " -1.33789062e-01 -1.99218750e-01  5.17578125e-02 -9.27734375e-02\n",
            " -2.40234375e-01 -7.86132812e-02 -1.54296875e-01 -6.64062500e-02\n",
            " -1.97265625e-01  1.76757812e-01 -1.57226562e-01 -1.63085938e-01\n",
            "  6.00585938e-02 -5.85937500e-02 -2.22656250e-01 -6.59179688e-02\n",
            " -9.37500000e-02 -4.14062500e-01  2.55859375e-01 -1.76757812e-01\n",
            "  2.51953125e-01  1.48437500e-01 -1.04492188e-01 -8.60595703e-03\n",
            " -1.22558594e-01 -9.22851562e-02  4.41894531e-02 -1.70898438e-01\n",
            " -1.98242188e-01  1.92382812e-01  2.85156250e-01 -4.34570312e-02\n",
            "  1.08398438e-01 -5.37109375e-02 -2.09960938e-02  1.46484375e-01\n",
            "  3.82812500e-01  2.31933594e-02 -8.83789062e-02  7.32421875e-02\n",
            " -1.01074219e-01 -1.06445312e-01  4.12109375e-01  2.10937500e-01\n",
            "  2.79296875e-01 -2.08740234e-02  2.07031250e-01  9.81445312e-02\n",
            "  2.39257812e-01  7.66601562e-02  2.02148438e-01 -6.07910156e-02\n",
            " -2.63977051e-03 -1.83593750e-01 -1.57470703e-02 -3.20312500e-01\n",
            "  9.03320312e-02  1.02050781e-01 -4.96093750e-01 -9.71679688e-02\n",
            " -8.10546875e-02 -1.80664062e-01 -1.45507812e-01  8.64257812e-02\n",
            " -2.04101562e-01 -2.02148438e-01 -5.46875000e-02  2.53906250e-01\n",
            "  2.08740234e-02 -1.15722656e-01  2.02148438e-01 -8.05664062e-02\n",
            " -1.04980469e-01 -7.95898438e-02  1.96533203e-02 -2.49023438e-01\n",
            "  1.30859375e-01  2.89062500e-01 -2.25585938e-01  4.55078125e-01\n",
            " -2.73437500e-01 -2.57812500e-01 -3.14941406e-02  4.04296875e-01\n",
            " -2.67578125e-01  2.89062500e-01 -1.83593750e-01 -1.48437500e-01\n",
            " -1.06933594e-01  1.27929688e-01  5.46875000e-01 -8.69140625e-02\n",
            " -1.48315430e-02  6.98242188e-02 -8.49609375e-02 -1.55273438e-01]\n"
          ]
        }
      ],
      "source": [
        "pizza = word_vectors['pizza']\n",
        "print(f'Vector dimension: {pizza.shape}')\n",
        "\n",
        "# The embedding for the word 'pizza'.\n",
        "print(pizza)"
      ]
    },
    {
      "cell_type": "markdown",
      "metadata": {
        "id": "ORLN9U9fq8hp"
      },
      "source": [
        "We can get the cosine similarity between two words using the *similarity* method.\n",
        "https://radimrehurek.com/gensim/models/keyedvectors.html#gensim.models.keyedvectors.KeyedVectors.similarity"
      ]
    },
    {
      "cell_type": "markdown",
      "metadata": {
        "id": "G-7Iuo2orp60"
      },
      "source": [
        "In this case, we see words which we expect to be related have a higher similarity measure..."
      ]
    },
    {
      "cell_type": "code",
      "execution_count": 10,
      "metadata": {
        "id": "r1i6H88Cfp1P"
      },
      "outputs": [
        {
          "name": "stdout",
          "output_type": "stream",
          "text": [
            "0.3550562\n",
            "0.36959878\n",
            "0.4708359\n"
          ]
        }
      ],
      "source": [
        "print(word_vectors.similarity('pizza', 'tomato'))\n",
        "print(word_vectors.similarity('pizza', 'sauce'))\n",
        "print(word_vectors.similarity('pizza', 'cheese'))"
      ]
    },
    {
      "cell_type": "markdown",
      "metadata": {
        "id": "6UWdQJzaryQL"
      },
      "source": [
        "...compared to words we don't expect to be related."
      ]
    },
    {
      "cell_type": "code",
      "execution_count": 11,
      "metadata": {
        "id": "YUXR8uQ0ftWF"
      },
      "outputs": [
        {
          "name": "stdout",
          "output_type": "stream",
          "text": [
            "0.10851872\n",
            "0.111856\n",
            "0.14119944\n"
          ]
        }
      ],
      "source": [
        "print(word_vectors.similarity('pizza', 'gorilla'))\n",
        "print(word_vectors.similarity('pizza', 'tree'))\n",
        "print(word_vectors.similarity('pizza', 'yoga'))"
      ]
    },
    {
      "cell_type": "markdown",
      "metadata": {
        "id": "g3cD4P1tr4fT"
      },
      "source": [
        "Out-of-vocabulary (OOV) words thrown an exception. Bear in mind that looking up even common words here can result in an exception because we loaded only a subset of the vocabulary."
      ]
    },
    {
      "cell_type": "code",
      "execution_count": 12,
      "metadata": {
        "id": "zLf9bpYihVz7"
      },
      "outputs": [
        {
          "name": "stdout",
          "output_type": "stream",
          "text": [
            "\"Key 'womblyboo' not present\"\n"
          ]
        }
      ],
      "source": [
        "try:\n",
        "  word_vectors['womblyboo']\n",
        "except KeyError as e:\n",
        "  print(e)"
      ]
    },
    {
      "cell_type": "markdown",
      "metadata": {
        "id": "XCQcU72-q0V5"
      },
      "source": [
        "We can compare two sentences by using *n_similarity* which computes the cosine similarity of two **sets** of words.\n",
        "https://radimrehurek.com/gensim/models/keyedvectors.html#gensim.models.keyedvectors.KeyedVectors.n_similarity<br><br>\n",
        "*n_similarity* expects a sentence as a list of words, hence the use of '.split()'. It'll take this list of words, calculate the average of its word vectors, and use the result as an embedding for the whole sentence."
      ]
    },
    {
      "cell_type": "code",
      "execution_count": 13,
      "metadata": {
        "id": "nwvDT25miXk0"
      },
      "outputs": [
        {
          "data": {
            "text/plain": [
              "0.53146607"
            ]
          },
          "execution_count": 13,
          "metadata": {},
          "output_type": "execute_result"
        }
      ],
      "source": [
        "word_vectors.n_similarity(\"dog bites man\".split(), \"canine nips human\".split())"
      ]
    },
    {
      "cell_type": "code",
      "execution_count": 14,
      "metadata": {
        "id": "_rgATfqBisrn"
      },
      "outputs": [
        {
          "data": {
            "text/plain": [
              "0.1450578"
            ]
          },
          "execution_count": 14,
          "metadata": {},
          "output_type": "execute_result"
        }
      ],
      "source": [
        "word_vectors.n_similarity(\"martian dolphins are hostile\".split(), \"i flunked calligraphy school\".split())"
      ]
    },
    {
      "cell_type": "markdown",
      "metadata": {
        "id": "BZLcvAU4vf6P"
      },
      "source": [
        "One downside of this approach is that word order is thrown out, so two sentences with identical words which mean different things would score a perfect similarity score."
      ]
    },
    {
      "cell_type": "code",
      "execution_count": 15,
      "metadata": {
        "id": "yikNOChTinp0"
      },
      "outputs": [
        {
          "data": {
            "text/plain": [
              "1.0000001"
            ]
          },
          "execution_count": 15,
          "metadata": {},
          "output_type": "execute_result"
        }
      ],
      "source": [
        "word_vectors.n_similarity(\"dog bites man\".split(), \"man bites dog\".split())"
      ]
    },
    {
      "cell_type": "markdown",
      "metadata": {
        "id": "DLLpgr06vxTQ"
      },
      "source": [
        "Doing quick-and-dirty similarity measures like this is probably best if your corpus is domain-specific and similarity is based more on keywords. The more specific, the better.<br><br>\n",
        "For example, a corpus of business news headlines would probably work well."
      ]
    },
    {
      "cell_type": "code",
      "execution_count": 16,
      "metadata": {
        "id": "EejHDg24iyum"
      },
      "outputs": [
        {
          "data": {
            "text/plain": [
              "0.5268274"
            ]
          },
          "execution_count": 16,
          "metadata": {},
          "output_type": "execute_result"
        }
      ],
      "source": [
        "s1 = \"Volkswagen intends to double electric car sales in China\".lower().split()\n",
        "s2 = \"First Toyota with solid state battery will be hybrid\".lower().split()\n",
        "word_vectors.n_similarity(s1, s2)"
      ]
    },
    {
      "cell_type": "markdown",
      "metadata": {
        "id": "aWsFWJUXQ9RR"
      },
      "source": [
        "The *most_similar* method returns the words with the closest vectors.<br>\n",
        "https://radimrehurek.com/gensim/models/keyedvectors.html#gensim.models.keyedvectors.KeyedVectors.most_similar"
      ]
    },
    {
      "cell_type": "code",
      "execution_count": 17,
      "metadata": {
        "id": "2f2CXSQNxZgf"
      },
      "outputs": [
        {
          "data": {
            "text/plain": [
              "[('cells', 0.8180485367774963),\n",
              " ('Cells', 0.6146953105926514),\n",
              " ('Cell', 0.532131552696228),\n",
              " ('cellular', 0.5272858738899231),\n",
              " ('tumor_cells', 0.5097643136978149),\n",
              " ('ES_cells', 0.4866572618484497),\n",
              " ('immune_cells', 0.48319196701049805),\n",
              " ('epithelial_cells', 0.4781806170940399),\n",
              " ('molecule', 0.47757473587989807),\n",
              " ('proteins', 0.47494736313819885)]"
            ]
          },
          "execution_count": 17,
          "metadata": {},
          "output_type": "execute_result"
        }
      ],
      "source": [
        "word_vectors.most_similar(positive=['cell'], topn=10)"
      ]
    },
    {
      "cell_type": "markdown",
      "metadata": {
        "id": "1YN45ETCReXK"
      },
      "source": [
        "We can also combine vectors first, and retrieve the words most similar to their mean. Here, we're combining the vectors for 'cell' and 'phone' and retrieving the vectors closest to that result."
      ]
    },
    {
      "cell_type": "code",
      "execution_count": 18,
      "metadata": {
        "id": "wvOkR7UWx1su"
      },
      "outputs": [
        {
          "data": {
            "text/plain": [
              "[('cell_phone', 0.6861391067504883),\n",
              " ('cellular', 0.6757439374923706),\n",
              " ('cellphone', 0.6633196473121643),\n",
              " ('telephone', 0.6474039554595947),\n",
              " ('Phone', 0.6051893830299377),\n",
              " ('phones', 0.5896332859992981),\n",
              " ('cells', 0.5850947499275208),\n",
              " ('cordless_phone', 0.5711769461631775),\n",
              " ('Cell', 0.5617641806602478),\n",
              " ('landline', 0.5467295050621033)]"
            ]
          },
          "execution_count": 18,
          "metadata": {},
          "output_type": "execute_result"
        }
      ],
      "source": [
        "word_vectors.most_similar(positive=['cell', 'phone'], topn=10)"
      ]
    },
    {
      "cell_type": "markdown",
      "metadata": {
        "id": "PjMdhqJvR7ez"
      },
      "source": [
        "Given a collection of words, the *doesn't_match* method returns the word that \"doesn't go\" with the rest (i.e. with the vector that's furthest away from the mean of all the other vectors).<br>\n",
        "https://radimrehurek.com/gensim/models/keyedvectors.html#gensim.models.keyedvectors.KeyedVectors.doesnt_match"
      ]
    },
    {
      "cell_type": "code",
      "execution_count": 19,
      "metadata": {
        "id": "oA2NVKHPzExZ"
      },
      "outputs": [
        {
          "data": {
            "text/plain": [
              "'hamburger'"
            ]
          },
          "execution_count": 19,
          "metadata": {},
          "output_type": "execute_result"
        }
      ],
      "source": [
        "word_vectors.doesnt_match([\"apple\", \"orange\", \"hamburger\", \"banana\", \"kiwi\"])"
      ]
    },
    {
      "cell_type": "markdown",
      "metadata": {
        "id": "Xajz9UFQR91b"
      },
      "source": [
        "We can see the power of context in this example with 'Toyota' being correctly identified as the odd one out."
      ]
    },
    {
      "cell_type": "code",
      "execution_count": 20,
      "metadata": {
        "id": "evIAtmcVygyn"
      },
      "outputs": [
        {
          "data": {
            "text/plain": [
              "'Toyota'"
            ]
          },
          "execution_count": 20,
          "metadata": {},
          "output_type": "execute_result"
        }
      ],
      "source": [
        "word_vectors.doesnt_match([\"Microsoft\", \"Apple\", \"Toyota\", \"Amazon\", \"Netflix\", \"Google\"])"
      ]
    },
    {
      "cell_type": "markdown",
      "metadata": {
        "id": "h6UyREbVUS6p"
      },
      "source": [
        "Visualizing word vectors is straight-forward and can offer insights into what kind of contexts the training algorithm picked up.<br><br>\n",
        "Because these word vectors have a dimension of 300, we need to reduce them down to two dimensions to plot them on a regular graph. This can be done through **Principal Components Analysis (PCA)**:<br>\n",
        "https://scikit-learn.org/stable/modules/generated/sklearn.decomposition.PCA.html<br>\n",
        "<br>\n",
        "Here, we're plotting the words we considered in the slides."
      ]
    },
    {
      "cell_type": "code",
      "execution_count": 21,
      "metadata": {
        "id": "wC1e7EF0-b-s"
      },
      "outputs": [],
      "source": [
        "def display_pca_scatterplot(model, words):\n",
        "    word_vectors = np.array([model[w] for w in words])\n",
        "\n",
        "    twodim = PCA().fit_transform(word_vectors)[:,:2]\n",
        "\n",
        "    plt.figure(figsize=(10,10))\n",
        "    plt.scatter(twodim[:,0], twodim[:,1], edgecolors='k', c='r', s=128)\n",
        "    for word, (x,y) in zip(words, twodim):\n",
        "        plt.text(x+0.05, y+0.05, word)"
      ]
    },
    {
      "cell_type": "code",
      "execution_count": 22,
      "metadata": {
        "id": "cqmNesyaEhq_"
      },
      "outputs": [
        {
          "data": {
            "image/png": "[encoded data removed]",
            "text/plain": [
              "<Figure size 1000x1000 with 1 Axes>"
            ]
          },
          "metadata": {},
          "output_type": "display_data"
        }
      ],
      "source": [
        "display_pca_scatterplot(word_vectors, ['swim', 'swimming', 'cat', 'dog', 'feline', 'road', 'car', 'bus'])"
      ]
    },
    {
      "cell_type": "markdown",
      "metadata": {
        "id": "EXE5AEEUSnEN"
      },
      "source": [
        "We can even solve analogies (to a limited extent) with vector arithmetic.<br><br>\n",
        "Here, we're solving the analogy:<br>\n",
        "_Rome is to Italy as London is to __________.<br><br>\n",
        "Arithmetically, this is Italy + London - Rome.\n"
      ]
    },
    {
      "cell_type": "code",
      "execution_count": 23,
      "metadata": {
        "id": "VCJZYi-1zNUI"
      },
      "outputs": [
        {
          "data": {
            "text/plain": [
              "[('UK', 0.6230568885803223),\n",
              " ('Britain', 0.6016390919685364),\n",
              " ('United_Kingdom', 0.5343457460403442)]"
            ]
          },
          "execution_count": 23,
          "metadata": {},
          "output_type": "execute_result"
        }
      ],
      "source": [
        "word_vectors.most_similar(positive=['Italy', 'London'], negative=['Rome'], topn=3)"
      ]
    },
    {
      "cell_type": "markdown",
      "metadata": {
        "id": "vunBH2R5XRWe"
      },
      "source": [
        "Visualizing it can help with geometric intuition."
      ]
    },
    {
      "cell_type": "code",
      "execution_count": 24,
      "metadata": {
        "id": "RlH9W8q2V0Dm"
      },
      "outputs": [
        {
          "data": {
            "image/png": "[encoded data removed]",
            "text/plain": [
              "<Figure size 1000x1000 with 1 Axes>"
            ]
          },
          "metadata": {},
          "output_type": "display_data"
        }
      ],
      "source": [
        "display_pca_scatterplot(word_vectors, ['Rome', 'Italy', 'London', 'Britain', 'UK'])"
      ]
    },
    {
      "cell_type": "markdown",
      "metadata": {
        "id": "iuDWv6NXXjoF"
      },
      "source": [
        "# Using Pretrained Word Vectors for Classification"
      ]
    },
    {
      "cell_type": "markdown",
      "metadata": {
        "id": "Am-9bvppYKuS"
      },
      "source": [
        "In this section, we'll train a **Keras** model to use these Google News vectors to perform sentiment analysis on a bunch of **Yelp** reviews.\n",
        "<br><br>\n",
        "For this model, we'll increase the number of word vectors loaded to 1,000,000.\n",
        "\n"
      ]
    },
    {
      "cell_type": "code",
      "execution_count": 25,
      "metadata": {
        "id": "VVLj4fSMzvHJ"
      },
      "outputs": [
        {
          "name": "stdout",
          "output_type": "stream",
          "text": [
            "CPU times: user 7.47 s, sys: 334 ms, total: 7.8 s\n",
            "Wall time: 8.02 s\n"
          ]
        }
      ],
      "source": [
        "%%time\n",
        "word_vectors = KeyedVectors.load_word2vec_format(embedding_file, binary=True, limit=1000000)"
      ]
    },
    {
      "cell_type": "markdown",
      "metadata": {
        "id": "vdZQNavVYxfP"
      },
      "source": [
        "The dataset we'll use is *Yelp Polarity Reviews*, a collection of ~600,000 reviews for both training and testing.<br><br>\n",
        "The original Yelp reviews use a five-star rating system. The ratings in this dataset have been modified to simply be negative (label==1) or positive (label==2).<br>\n",
        "https://www.tensorflow.org/datasets/catalog/yelp_polarity_reviews<br><br>\n",
        "Tensorflow comes with a datasets loader but we're going to download the file manually and process the data ourselves for completeness."
      ]
    },
    {
      "cell_type": "code",
      "execution_count": 12,
      "metadata": {
        "id": "RcMEE11bzz_j"
      },
      "outputs": [
        {
          "name": "stdout",
          "output_type": "stream",
          "text": [
            "--2024-01-26 17:08:19--  https://s3.amazonaws.com/fast-ai-nlp/yelp_review_polarity_csv.tgz\n"
          ]
        },
        {
          "name": "stdout",
          "output_type": "stream",
          "text": [
            "Resolving s3.amazonaws.com (s3.amazonaws.com)... 16.182.38.104, 54.231.195.80, 52.216.184.109, ...\n",
            "Connecting to s3.amazonaws.com (s3.amazonaws.com)|16.182.38.104|:443... connected.\n",
            "HTTP request sent, awaiting response... 416 Requested Range Not Satisfiable\n",
            "\n",
            "    The file is already fully retrieved; nothing to do.\n",
            "\n"
          ]
        }
      ],
      "source": [
        "!wget -P /Users/justin/Documents/BBME/nlp_demystified/files -c \"https://s3.amazonaws.com/fast-ai-nlp/yelp_review_polarity_csv.tgz\""
      ]
    },
    {
      "cell_type": "markdown",
      "metadata": {
        "id": "wnTnApF4aq7k"
      },
      "source": [
        "Unzipping the archive results in *train.csv* and *test.csv* files placed in the default *contents* folder of our environment."
      ]
    },
    {
      "cell_type": "code",
      "execution_count": 15,
      "metadata": {
        "id": "-UK1y9kjzz7y"
      },
      "outputs": [
        {
          "name": "stdout",
          "output_type": "stream",
          "text": [
            "x yelp_review_polarity_csv/\n",
            "x yelp_review_polarity_csv/train.csv\n",
            "x yelp_review_polarity_csv/readme.txt\n",
            "x yelp_review_polarity_csv/test.csv\n",
            "/Users/justin/Documents/BBME/nlp_demystified\n"
          ]
        }
      ],
      "source": [
        "!tar xvzf 'files/yelp_review_polarity_csv.tgz' -C /Users/justin/Documents/BBME/nlp_demystified/files\n",
        "\n",
        "# Show current working directory.\n",
        "!pwd"
      ]
    },
    {
      "cell_type": "markdown",
      "metadata": {
        "id": "OaJCSM3lbK-E"
      },
      "source": [
        "The **Pandas** library makes it simple to load a CSV file into memory and manipulate the data.<br>\n",
        "https://pandas.pydata.org/<br>\n",
        "https://pandas.pydata.org/docs/<br>\n",
        "https://pandas.pydata.org/docs/reference/api/pandas.read_csv.html?highlight=read_csv"
      ]
    },
    {
      "cell_type": "markdown",
      "metadata": {
        "id": "xIG4UVMkbq9E"
      },
      "source": [
        "Here, we're loading the CSV into a Pandas **dataframe** (sort of like an in-memory table) and explicitly naming the columns.<br>\n",
        "https://pandas.pydata.org/docs/reference/api/pandas.DataFrame.html?highlight=dataframe#pandas.DataFrame"
      ]
    },
    {
      "cell_type": "code",
      "execution_count": 31,
      "metadata": {
        "id": "tdLoK1Jozz0Z"
      },
      "outputs": [
        {
          "name": "stdout",
          "output_type": "stream",
          "text": [
            "(560000, 2)\n"
          ]
        }
      ],
      "source": [
        "yelp_train = pd.read_csv('yelp_review_polarity_csv/train.csv', names=['sentiment', 'review'])\n",
        "print(yelp_train.shape)"
      ]
    },
    {
      "cell_type": "markdown",
      "metadata": {
        "id": "lGgJl1QCb738"
      },
      "source": [
        "We can get a quick view of the data through the *head* method.<br>\n",
        "https://pandas.pydata.org/docs/reference/api/pandas.DataFrame.head.html"
      ]
    },
    {
      "cell_type": "code",
      "execution_count": 32,
      "metadata": {
        "id": "jVHtVqOBzzwS"
      },
      "outputs": [
        {
          "data": {
            "text/html": [
              "<div>\n",
              "<style scoped>\n",
              "    .dataframe tbody tr th:only-of-type {\n",
              "        vertical-align: middle;\n",
              "    }\n",
              "\n",
              "    .dataframe tbody tr th {\n",
              "        vertical-align: top;\n",
              "    }\n",
              "\n",
              "    .dataframe thead th {\n",
              "        text-align: right;\n",
              "    }\n",
              "</style>\n",
              "<table border=\"1\" class=\"dataframe\">\n",
              "  <thead>\n",
              "    <tr style=\"text-align: right;\">\n",
              "      <th></th>\n",
              "      <th>sentiment</th>\n",
              "      <th>review</th>\n",
              "    </tr>\n",
              "  </thead>\n",
              "  <tbody>\n",
              "    <tr>\n",
              "      <th>0</th>\n",
              "      <td>1</td>\n",
              "      <td>Unfortunately, the frustration of being Dr. Go...</td>\n",
              "    </tr>\n",
              "    <tr>\n",
              "      <th>1</th>\n",
              "      <td>2</td>\n",
              "      <td>Been going to Dr. Goldberg for over 10 years. ...</td>\n",
              "    </tr>\n",
              "    <tr>\n",
              "      <th>2</th>\n",
              "      <td>1</td>\n",
              "      <td>I don't know what Dr. Goldberg was like before...</td>\n",
              "    </tr>\n",
              "    <tr>\n",
              "      <th>3</th>\n",
              "      <td>1</td>\n",
              "      <td>I'm writing this review to give you a heads up...</td>\n",
              "    </tr>\n",
              "    <tr>\n",
              "      <th>4</th>\n",
              "      <td>2</td>\n",
              "      <td>All the food is great here. But the best thing...</td>\n",
              "    </tr>\n",
              "  </tbody>\n",
              "</table>\n",
              "</div>"
            ],
            "text/plain": [
              "   sentiment                                             review\n",
              "0          1  Unfortunately, the frustration of being Dr. Go...\n",
              "1          2  Been going to Dr. Goldberg for over 10 years. ...\n",
              "2          1  I don't know what Dr. Goldberg was like before...\n",
              "3          1  I'm writing this review to give you a heads up...\n",
              "4          2  All the food is great here. But the best thing..."
            ]
          },
          "execution_count": 32,
          "metadata": {},
          "output_type": "execute_result"
        }
      ],
      "source": [
        "yelp_train.head()"
      ]
    },
    {
      "cell_type": "markdown",
      "metadata": {
        "id": "9wS0o4gEclCT"
      },
      "source": [
        "To save on training time, we'll train on 100,000 reviews rather than the full set. To do that, we'll shuffle the dataset using the *sample* method and *copy* the first 100,000 entries. The reason to shuffle first is to ensure we get a mix of reviews from a variety of businesses (in case the data is sorted in some way).<br>\n",
        "https://pandas.pydata.org/docs/reference/api/pandas.DataFrame.sample.html<br>\n",
        "https://pandas.pydata.org/docs/reference/api/pandas.DataFrame.copy.html\n"
      ]
    },
    {
      "cell_type": "code",
      "execution_count": 33,
      "metadata": {
        "id": "YacSH4F0c5aU"
      },
      "outputs": [
        {
          "name": "stdout",
          "output_type": "stream",
          "text": [
            "(100000, 2)\n"
          ]
        }
      ],
      "source": [
        "TRAIN_SIZE = 100000\n",
        "yelp_train = yelp_train.sample(frac=1, random_state=1)[:TRAIN_SIZE].copy()\n",
        "print(yelp_train.shape)"
      ]
    },
    {
      "cell_type": "markdown",
      "metadata": {
        "id": "DLraxnTMd9iE"
      },
      "source": [
        "The next thing to do is adjust the labels. This is a **binary classification problem**, so our model's output layer will be a single unit with a **sigmoid** activation function. This function's output will be between 0 and 1 which is then compared against the training label. But the labels are currently 1 for negative, and 2 for positive, which is going to cause problems when calculating the loss.<br><br>\n",
        "So we'll simply replace the 1s with 0s, and 2s with 1s using the *replace* method.<br>\n",
        "https://pandas.pydata.org/docs/reference/api/pandas.DataFrame.replace.html\n",
        "<br><br>\n",
        "Alternatively, we could keep the labels as-is and treat this as a **multiclassification** problem with two labels and use a **softmax**, but we would then need to **one-hot encode** the labels (at least based on what we've learnt so far).\n"
      ]
    },
    {
      "cell_type": "code",
      "execution_count": 34,
      "metadata": {
        "id": "kbmYKm-SjGnm"
      },
      "outputs": [],
      "source": [
        "yelp_train['sentiment'].replace(to_replace=1, value=0, inplace=True)\n",
        "yelp_train['sentiment'].replace(to_replace=2, value=1, inplace=True)"
      ]
    },
    {
      "cell_type": "code",
      "execution_count": 35,
      "metadata": {
        "id": "LlzWLECijrg_"
      },
      "outputs": [
        {
          "data": {
            "text/html": [
              "<div>\n",
              "<style scoped>\n",
              "    .dataframe tbody tr th:only-of-type {\n",
              "        vertical-align: middle;\n",
              "    }\n",
              "\n",
              "    .dataframe tbody tr th {\n",
              "        vertical-align: top;\n",
              "    }\n",
              "\n",
              "    .dataframe thead th {\n",
              "        text-align: right;\n",
              "    }\n",
              "</style>\n",
              "<table border=\"1\" class=\"dataframe\">\n",
              "  <thead>\n",
              "    <tr style=\"text-align: right;\">\n",
              "      <th></th>\n",
              "      <th>sentiment</th>\n",
              "      <th>review</th>\n",
              "    </tr>\n",
              "  </thead>\n",
              "  <tbody>\n",
              "    <tr>\n",
              "      <th>39658</th>\n",
              "      <td>1</td>\n",
              "      <td>omg, the grandma g's pizza with rosemary chick...</td>\n",
              "    </tr>\n",
              "    <tr>\n",
              "      <th>330033</th>\n",
              "      <td>0</td>\n",
              "      <td>Microwaved food over over over seasoned gyro m...</td>\n",
              "    </tr>\n",
              "    <tr>\n",
              "      <th>238898</th>\n",
              "      <td>0</td>\n",
              "      <td>While the food is good, the service leaves a l...</td>\n",
              "    </tr>\n",
              "    <tr>\n",
              "      <th>453536</th>\n",
              "      <td>0</td>\n",
              "      <td>Called the Chandler PD about the sign spinner ...</td>\n",
              "    </tr>\n",
              "    <tr>\n",
              "      <th>555973</th>\n",
              "      <td>1</td>\n",
              "      <td>Just took Ewok, my approx. 6 month old shih tz...</td>\n",
              "    </tr>\n",
              "  </tbody>\n",
              "</table>\n",
              "</div>"
            ],
            "text/plain": [
              "        sentiment                                             review\n",
              "39658           1  omg, the grandma g's pizza with rosemary chick...\n",
              "330033          0  Microwaved food over over over seasoned gyro m...\n",
              "238898          0  While the food is good, the service leaves a l...\n",
              "453536          0  Called the Chandler PD about the sign spinner ...\n",
              "555973          1  Just took Ewok, my approx. 6 month old shih tz..."
            ]
          },
          "execution_count": 35,
          "metadata": {},
          "output_type": "execute_result"
        }
      ],
      "source": [
        "yelp_train.head()"
      ]
    },
    {
      "cell_type": "markdown",
      "metadata": {
        "id": "rILnYdQMgIlh"
      },
      "source": [
        "As we've done throughout this course, we'll create train/validation splits.<br>\n",
        "https://scikit-learn.org/stable/modules/generated/sklearn.model_selection.train_test_split.html"
      ]
    },
    {
      "cell_type": "code",
      "execution_count": 36,
      "metadata": {
        "id": "CC-VSNcn7Cpq"
      },
      "outputs": [],
      "source": [
        "yelp_train_split, yelp_val_split = train_test_split(yelp_train, train_size=0.85, random_state=1)"
      ]
    },
    {
      "cell_type": "code",
      "execution_count": 37,
      "metadata": {
        "id": "9Xj4WyLb7Wdr"
      },
      "outputs": [],
      "source": [
        "# Set up training data.\n",
        "train_reviews = yelp_train_split['review']\n",
        "y_train = np.array(yelp_train_split['sentiment'])\n",
        "\n",
        "# Set up validation data.\n",
        "val_reviews = yelp_val_split['review']\n",
        "y_val = np.array(yelp_val_split['sentiment'])"
      ]
    },
    {
      "cell_type": "markdown",
      "metadata": {
        "id": "CK9V0dJAgbSJ"
      },
      "source": [
        "A quick sanity check to see how our data is distributed (e.g. balanced or skewed)."
      ]
    },
    {
      "cell_type": "code",
      "execution_count": 38,
      "metadata": {
        "id": "MHBWB2vc7ie1"
      },
      "outputs": [
        {
          "data": {
            "text/plain": [
              "Counter({0: 42395, 1: 42605})"
            ]
          },
          "execution_count": 38,
          "metadata": {},
          "output_type": "execute_result"
        }
      ],
      "source": [
        "collections.Counter(y_train)"
      ]
    },
    {
      "cell_type": "markdown",
      "metadata": {
        "id": "M0fM5vRygqfq"
      },
      "source": [
        "Because we're relying more on richer encodings (in this case, word vectors), we won't perform as much preprocessing this time around. We'll stick with using the regular Keras **tokenizer** and just filter out numbers and certain symbols.<br>\n",
        "https://www.tensorflow.org/api_docs/python/tf/keras/preprocessing/text/Tokenizer<br><br>\n",
        "We'll also have the tokenizer limit itself to tokenizing only the most frequent 20,000 words. This way, the model will focus on the most frequent descriptive sentiment words."
      ]
    },
    {
      "cell_type": "code",
      "execution_count": 39,
      "metadata": {
        "id": "UI4FgHPa4p2T"
      },
      "outputs": [],
      "source": [
        "tokenizer = keras.preprocessing.text.Tokenizer(num_words=20000,\n",
        "                                               filters='0123456789!\"#$%&()*+,-./:;<=>?@[\\]^_`{|}~',\n",
        "                                               lower=True)"
      ]
    },
    {
      "cell_type": "markdown",
      "metadata": {
        "id": "gXQXX82chivF"
      },
      "source": [
        "Build the vocabulary."
      ]
    },
    {
      "cell_type": "code",
      "execution_count": 40,
      "metadata": {
        "id": "ayGLszCqzzoK"
      },
      "outputs": [
        {
          "name": "stdout",
          "output_type": "stream",
          "text": [
            "CPU times: user 4.4 s, sys: 83.8 ms, total: 4.49 s\n",
            "Wall time: 4.53 s\n"
          ]
        }
      ],
      "source": [
        "%%time\n",
        "tokenizer.fit_on_texts(train_reviews)"
      ]
    },
    {
      "cell_type": "markdown",
      "metadata": {
        "id": "v5zDD6RCBzxH"
      },
      "source": [
        "The next step is to vectorize our reviews. In the [_Neural Network Foundations_](https://github.com/futuremojo/nlp-demystified/blob/main/notebooks/nlpdemystified_neural_networks_foundations.ipynb) notebook, we used the *texts_to_matrix* method to turn text into binary bags of words.<br><br>\n",
        "Here, we're going to use the *text_to_sequences* method to turn each review into a sequence of integers, with each integer representing its corresponding token.<br>\n",
        "https://www.tensorflow.org/api_docs/python/tf/keras/preprocessing/text/Tokenizer#texts_to_sequences\n",
        "\n"
      ]
    },
    {
      "cell_type": "code",
      "execution_count": 41,
      "metadata": {
        "id": "OAd431jp6Ydg"
      },
      "outputs": [
        {
          "name": "stdout",
          "output_type": "stream",
          "text": [
            "CPU times: user 2.74 s, sys: 31.1 ms, total: 2.77 s\n",
            "Wall time: 2.8 s\n"
          ]
        }
      ],
      "source": [
        "%%time\n",
        "X_train = tokenizer.texts_to_sequences(train_reviews)"
      ]
    },
    {
      "cell_type": "code",
      "execution_count": 42,
      "metadata": {
        "id": "PPo0mNRB6YZL"
      },
      "outputs": [
        {
          "name": "stdout",
          "output_type": "stream",
          "text": [
            "[49, 14, 2224, 4199, 1981, 11, 2312, 16, 6, 59, 3042, 138, 5, 145, 1, 294, 1, 378, 370, 7, 8, 37, 6, 1, 120, 944, 16362, 1026, 33, 3014, 21, 1170, 12144, 3036, 1427, 5513, 56, 3214, 2, 106, 5514, 136, 886, 1, 2224, 268, 3, 90, 22, 1278, 944, 16362, 51, 183, 36, 60, 107, 3214, 9, 14, 795, 26, 351, 3, 148, 5, 150, 107, 65, 12, 47, 74, 1966, 1935, 42, 7, 1, 132, 5352, 24, 1918, 36, 5481, 21, 1, 11637, 1378, 1116, 6722, 13, 64, 262, 19603, 2, 312, 4, 1253, 3278, 5, 14, 362, 116, 6, 10, 1, 128, 271, 137, 2100, 7, 16, 14, 362, 2, 3, 148, 4, 156, 1694, 1047, 17, 147, 86, 323, 598, 1, 1103, 207, 1055, 51, 544, 783, 21, 1, 3872, 15, 26, 147, 17728, 2, 27, 148, 39, 15, 102, 993, 18, 1, 1364, 55, 1, 6722, 5481, 2, 60, 39, 249, 102, 30, 282, 8, 161, 4, 43, 189, 46, 9, 944, 16362, 5, 1338, 65, 10, 674, 3, 102, 598, 2, 47, 64, 90, 279, 48, 64, 86, 124, 174, 1, 128, 18, 4, 545, 303, 1072, 13078, 12751, 17, 18, 1, 766, 13, 14, 362, 2, 3, 24, 282, 172, 360, 10, 815, 9, 107, 3, 78, 113, 39, 1, 5352, 24, 68, 4628, 51, 2968, 13, 15, 86, 598, 1, 1103, 2, 99, 79, 944, 16362, 888, 48, 288, 1, 2348, 10, 65, 19, 5274, 41, 1317, 5, 150, 1, 1364, 17, 47, 944, 16362, 299, 90, 1338, 15, 26, 137, 5, 240, 38, 1453, 116, 24, 282, 172, 360, 2, 26, 165, 10, 1966, 9, 8, 32, 6, 57, 889, 8276, 57, 12145, 35, 5, 118, 3, 6, 792, 22, 73, 4, 1318, 40, 4, 18584, 64, 148, 238, 38, 20, 1559, 59, 9752, 6722, 12, 13, 1388, 2, 47, 15, 215, 5, 1243, 64, 6032, 6723, 107, 2636, 2, 6842, 12, 13, 1388, 15, 975, 13, 10, 489, 57, 8, 6, 22, 1388, 42, 7, 1, 5352, 24, 628, 5, 561, 1, 6722, 9, 14, 104, 5, 150, 1512, 13, 24, 134, 4343, 21, 1, 6722, 2, 13, 12, 60, 15, 24, 4273, 15, 26, 565, 2, 1290, 5, 2193, 5, 59, 9752, 6722, 39, 1, 448, 18585, 944, 16362, 99, 14, 362, 9, 73, 222, 25, 1, 6722, 3344, 10, 7655, 7, 1, 489, 13, 8, 6, 42, 7, 1, 5352, 116, 2663, 399, 175, 845, 5, 8, 944, 16362, 137, 8, 1096, 5, 67, 13, 1, 9595, 28, 22, 9, 20, 1, 1737, 5, 655, 20, 78, 113, 118, 5, 655, 77, 8, 817, 266, 7, 1462, 5, 1916, 118, 5, 655, 250, 9595, 1462, 20, 78, 23, 2, 73, 39, 20, 26, 2956, 19, 53, 147, 30, 1248, 5, 655, 3, 547, 718, 7, 250, 515, 24, 9595, 544, 2, 271, 15, 79, 533, 13, 15755, 944, 16362, 137, 8, 540, 35, 194, 15, 24, 15756, 1, 5352, 65, 25, 13, 401, 15, 1266, 8080, 67, 13, 1, 5352, 28, 94, 2956, 6407, 2, 113, 103, 74, 55, 250, 238, 100, 20, 82, 2, 64, 106, 37, 16, 10, 270, 7, 77, 10, 1, 209, 450, 2901, 15, 975, 13, 13, 6, 91, 4, 971, 10, 1490, 13, 15, 91, 15756, 56, 37, 15, 26, 1254, 9, 6, 69, 14728, 10, 4, 1103, 399, 5, 41, 845, 75, 1, 5352, 2, 137, 36, 5, 30, 42, 9, 10065, 2833, 35, 4, 1737, 3, 141, 3, 23, 1, 144, 5, 269, 1047, 2, 1317, 5, 150, 4, 1364, 3, 24, 1, 1875, 944, 16362, 6, 21, 1, 7085, 1, 579, 46, 2, 60, 137, 238, 74, 9, 33, 6, 1, 489, 13, 64, 260, 5, 1711, 8, 37, 48, 18, 4, 302, 7, 11886, 271, 64, 918, 820, 1152, 67, 108, 944, 16362, 260, 5, 361, 107, 281, 18, 60, 407, 38, 4, 12752, 51, 7, 14, 5784, 5, 150, 107, 35, 64, 6, 286, 565, 5, 383, 36, 7, 1, 128, 944, 16362, 24, 4, 1283, 9061, 18, 2855, 815, 191, 3, 145, 8, 280, 3, 1513, 145, 8, 363, 40, 145, 8, 72, 235, 1, 302, 7, 352, 3, 117, 99, 64, 264, 33, 1151, 10, 1, 869, 2, 106, 233, 115, 5, 23, 4, 1037, 957, 2, 356, 36, 184, 267, 13, 24, 576, 21, 13, 132, 73, 47, 944, 16362, 102, 22, 141, 7, 1, 238, 64, 6, 5990, 5, 2, 24, 5, 30, 1743, 7, 75, 1, 5352, 184, 267, 64, 24, 106, 28, 238, 3, 278, 102, 23, 2902, 17, 22, 13, 22, 10, 4, 31, 3, 24, 68, 2489, 3, 102, 494, 8000, 49, 3, 24, 91, 538, 6781, 136, 2, 3, 6, 22, 828, 9, 1, 13837, 7, 3942, 3, 6, 142, 49, 1, 46, 3, 24, 419, 25, 1, 2224, 5, 121, 2, 2019, 5, 429, 238, 694, 17, 118, 102, 477, 2019, 80, 169, 1026, 38, 13, 1, 7, 3442, 28, 1248, 227, 10, 1427, 17, 80, 376, 59, 5112, 18, 944, 16362, 3, 6, 531, 5381, 36, 55, 169, 4867, 5, 10, 376, 4, 120, 2, 37, 3, 102, 99, 141, 55, 6, 1, 15231, 7, 3942, 64, 161, 226, 14, 803, 9, 4, 893, 2, 3308, 33, 27, 103, 15232, 13, 3, 531, 48, 9, 1, 615, 7, 60, 53, 147, 30, 4, 43, 189, 3442, 107, 1882, 7, 33, 6, 10, 69, 2132, 74, 18586, 100, 1, 3942, 674, 53, 442, 244, 39, 1055]\n"
          ]
        }
      ],
      "source": [
        "# The first review in the training set, vectorized.\n",
        "print(X_train[0])"
      ]
    },
    {
      "cell_type": "markdown",
      "metadata": {
        "id": "kH4I4SeoqVDn"
      },
      "source": [
        "We can look up the corresponding tokens using the tokenizer's *index_word* dict. Here are the tokens corresponding to the first three integers from the first vectorized review."
      ]
    },
    {
      "cell_type": "code",
      "execution_count": 43,
      "metadata": {
        "id": "jkOI7jYFqb44"
      },
      "outputs": [
        {
          "data": {
            "text/plain": [
              "['from', 'my', 'hospital']"
            ]
          },
          "execution_count": 43,
          "metadata": {},
          "output_type": "execute_result"
        }
      ],
      "source": [
        "[tokenizer.index_word[x] for x in X_train[0][:3]]"
      ]
    },
    {
      "cell_type": "markdown",
      "metadata": {
        "id": "ahgfyZhDrHDJ"
      },
      "source": [
        "We can also convert the integer sequence back to text using the *sequences_to_texts* method, and compare it against the original text.<br>\n",
        "https://www.tensorflow.org/api_docs/python/tf/keras/preprocessing/text/Tokenizer#sequences_to_texts"
      ]
    },
    {
      "cell_type": "code",
      "execution_count": 44,
      "metadata": {
        "id": "RPlvLdz8rGZZ"
      },
      "outputs": [
        {
          "data": {
            "text/plain": [
              "'from my hospital feedback form n nwhile this was an unpleasant experience to say the least the worst part of it all was the way dr haslett treated me doctors on previous shifts introduced themselves discussed their plans and said goodbye before leaving the hospital however i did not meet dr haslett '"
            ]
          },
          "execution_count": 44,
          "metadata": {},
          "output_type": "execute_result"
        }
      ],
      "source": [
        "# Review excerpt reconstructed from integer sequence.\n",
        "tokenizer.sequences_to_texts([X_train[0]])[0][:300]"
      ]
    },
    {
      "cell_type": "code",
      "execution_count": 45,
      "metadata": {
        "id": "ZirHR4_OC87H"
      },
      "outputs": [
        {
          "data": {
            "text/plain": [
              "'From my hospital feedback form:\\\\n\\\\nWhile this was an unpleasant experience to say the least, the worst part of it all was the way Dr. Haslett treated me.  Doctors on previous shifts introduced themselves, discussed their plans and said goodbye before leaving the hospital.  However, I did not meet Dr'"
            ]
          },
          "execution_count": 45,
          "metadata": {},
          "output_type": "execute_result"
        }
      ],
      "source": [
        "# Original review text.\n",
        "train_reviews.iloc[0][:300]"
      ]
    },
    {
      "cell_type": "markdown",
      "metadata": {
        "id": "bEqDNjactNk1"
      },
      "source": [
        "Some models and situations require us to **pad** our sequences to the same length. While that's not the case here, it can still be beneficial to have all our inputs (and consequently, our batches) to be of uniform size to help with optimizations.<br><br>\n",
        "In this case, we'll make all our reviews 200 tokens in length (in practice, you can choose a number based on some analysis). So the reviews longer than 200 tokens will be truncated, while the reviews shorter than 200 will be padded with zeroes.<br>\n",
        "https://www.tensorflow.org/api_docs/python/tf/keras/preprocessing/sequence/pad_sequences"
      ]
    },
    {
      "cell_type": "code",
      "execution_count": 46,
      "metadata": {
        "id": "2lTEjMgDqIPp"
      },
      "outputs": [],
      "source": [
        "MAX_REVIEW_LEN = 200\n",
        "X_train = keras.preprocessing.sequence.pad_sequences(X_train, maxlen=MAX_REVIEW_LEN)"
      ]
    },
    {
      "cell_type": "code",
      "execution_count": 47,
      "metadata": {
        "id": "d2tHPfAVv37k"
      },
      "outputs": [
        {
          "name": "stdout",
          "output_type": "stream",
          "text": [
            "[ 1037   957     2   356    36   184   267    13    24   576    21    13\n",
            "   132    73    47   944 16362   102    22   141     7     1   238    64\n",
            "     6  5990     5     2    24     5    30  1743     7    75     1  5352\n",
            "   184   267    64    24   106    28   238     3   278   102    23  2902\n",
            "    17    22    13    22    10     4    31     3    24    68  2489     3\n",
            "   102   494  8000    49     3    24    91   538  6781   136     2     3\n",
            "     6    22   828     9     1 13837     7  3942     3     6   142    49\n",
            "     1    46     3    24   419    25     1  2224     5   121     2  2019\n",
            "     5   429   238   694    17   118   102   477  2019    80   169  1026\n",
            "    38    13     1     7  3442    28  1248   227    10  1427    17    80\n",
            "   376    59  5112    18   944 16362     3     6   531  5381    36    55\n",
            "   169  4867     5    10   376     4   120     2    37     3   102    99\n",
            "   141    55     6     1 15231     7  3942    64   161   226    14   803\n",
            "     9     4   893     2  3308    33    27   103 15232    13     3   531\n",
            "    48     9     1   615     7    60    53   147    30     4    43   189\n",
            "  3442   107  1882     7    33     6    10    69  2132    74 18586   100\n",
            "     1  3942   674    53   442   244    39  1055]\n",
            "[    0     0     0     0     0     0     0     0     0     0     0     0\n",
            "     0     0     0     0     0     0     0     0     0     0     0     0\n",
            "     0     0     0     0     0     0     0     0     0     0     0     0\n",
            "     0     0     0     0     0     0     0     0     0     0     0     0\n",
            "     0     0     0     0     0     0     0     0     0     0     0     0\n",
            "     0     0     0     0     0     0     0     0     0     0     0     0\n",
            "     0     0     0     0     0     0     0     0     0     0     0     0\n",
            "     0     0     0     0     0     0     0     0     0     0     0     0\n",
            "     0     0     0     0     0     0     0     0     0     0     0     0\n",
            "     0     0     0     0     0     0     0     0     0     0     0     0\n",
            "     0     0     0     0     0     0     0     0     0     0     0     0\n",
            "     0     0     0     0     0     0     0     0     0     0     0     0\n",
            "     0     0     0     0     0     0     0     0     0     0     0     0\n",
            "     0     0     0     0     0     0     0     0     0     0     0     0\n",
            "     0     0     0     0     0     0     0    38    16    31  2281    17\n",
            "     3   141     1   133   619     5  5785     2     1  1955     4   208\n",
            "   855  1465     1   539 11887    26   122  1351]\n"
          ]
        }
      ],
      "source": [
        "print(X_train[0])\n",
        "print(X_train[1])"
      ]
    },
    {
      "cell_type": "markdown",
      "metadata": {
        "id": "nBAg3laKwDWO"
      },
      "source": [
        "Our training set is prepared. We can now also vectorize and pad our validation set."
      ]
    },
    {
      "cell_type": "code",
      "execution_count": 48,
      "metadata": {
        "id": "E9P72JJYHqKp"
      },
      "outputs": [],
      "source": [
        "X_val = tokenizer.texts_to_sequences(val_reviews)\n",
        "X_val = keras.preprocessing.sequence.pad_sequences(X_val, maxlen=MAX_REVIEW_LEN)"
      ]
    },
    {
      "cell_type": "markdown",
      "metadata": {
        "id": "P8dy9OWMwafM"
      },
      "source": [
        "Now we need to incorporate the Google News vectors (currently loaded into gensim) into our Keras model. What we'll do is create an embedding matrix that maps each tokenizer integer to its respective word vector.<br><br>\n",
        "For example, here's the index for the word \"good\" from the Keras tokenizer and the word vector for \"good\" from gensim. We want a matrix which maps the index to the vector.\n"
      ]
    },
    {
      "cell_type": "code",
      "execution_count": 49,
      "metadata": {
        "id": "5m7OW6-pwaJc"
      },
      "outputs": [
        {
          "name": "stdout",
          "output_type": "stream",
          "text": [
            "34\n"
          ]
        }
      ],
      "source": [
        "print(tokenizer.word_index['good'])"
      ]
    },
    {
      "cell_type": "code",
      "execution_count": 50,
      "metadata": {
        "id": "3rOAy_IkHqfx"
      },
      "outputs": [
        {
          "name": "stdout",
          "output_type": "stream",
          "text": [
            "[ 0.04052734  0.0625     -0.01745605  0.07861328  0.03271484 -0.01263428\n",
            "  0.00964355  0.12353516 -0.02148438  0.15234375 -0.05834961 -0.10644531\n",
            "  0.02124023  0.13574219 -0.13183594  0.17675781  0.27148438  0.13769531\n",
            " -0.17382812 -0.14160156 -0.03076172  0.19628906 -0.03295898  0.125\n",
            "  0.25390625  0.12695312 -0.15234375  0.03198242  0.01135254 -0.01361084\n",
            " -0.12890625  0.01019287  0.23925781 -0.08447266  0.140625    0.13085938\n",
            " -0.04516602  0.06494141  0.02539062  0.05615234  0.24609375 -0.20507812\n",
            "  0.23632812 -0.00860596 -0.02294922  0.05078125  0.10644531 -0.03564453\n",
            "  0.08740234 -0.05712891]\n"
          ]
        }
      ],
      "source": [
        "# Part of the vector for the word 'good'.\n",
        "print(word_vectors['good'][:50])"
      ]
    },
    {
      "cell_type": "markdown",
      "metadata": {
        "id": "elzisAtxyO-o"
      },
      "source": [
        "We'll create this embedding matrix by first initializing a matrix of zeros, then looping over every word in the tokenizer vocabulary and:\n",
        "1. Checking if the word has a corresponding vector in gensim.\n",
        "2. If it does, then copy the vector into the matrix row corresponding to the word's index."
      ]
    },
    {
      "cell_type": "code",
      "execution_count": 51,
      "metadata": {
        "id": "Iw25Irs4J-JG"
      },
      "outputs": [],
      "source": [
        "# + 1 to account for padding token.\n",
        "num_tokens = len(tokenizer.word_index) + 1\n",
        "\n",
        "# Initialize a matrix of zeroes of size: vocabulary x embedding dimension.\n",
        "embedding_dim = 300\n",
        "embedding_matrix = np.zeros((num_tokens, embedding_dim))\n",
        "\n",
        "for word, i in tokenizer.word_index.items():\n",
        "  if word_vectors.has_index_for(word):\n",
        "    embedding_matrix[i] = word_vectors[word].copy()\n"
      ]
    },
    {
      "cell_type": "code",
      "execution_count": 52,
      "metadata": {
        "id": "uncvu4lcJ-OI"
      },
      "outputs": [
        {
          "name": "stdout",
          "output_type": "stream",
          "text": [
            "[ 0.04052734  0.0625     -0.01745605  0.07861328  0.03271484 -0.01263428\n",
            "  0.00964355  0.12353516 -0.02148438  0.15234375 -0.05834961 -0.10644531\n",
            "  0.02124023  0.13574219 -0.13183594  0.17675781  0.27148438  0.13769531\n",
            " -0.17382812 -0.14160156 -0.03076172  0.19628906 -0.03295898  0.125\n",
            "  0.25390625  0.12695312 -0.15234375  0.03198242  0.01135254 -0.01361084\n",
            " -0.12890625  0.01019287  0.23925781 -0.08447266  0.140625    0.13085938\n",
            " -0.04516602  0.06494141  0.02539062  0.05615234  0.24609375 -0.20507812\n",
            "  0.23632812 -0.00860596 -0.02294922  0.05078125  0.10644531 -0.03564453\n",
            "  0.08740234 -0.05712891]\n"
          ]
        }
      ],
      "source": [
        "# Quick visual check.\n",
        "print(embedding_matrix[tokenizer.word_index['good']][:50])"
      ]
    },
    {
      "cell_type": "markdown",
      "metadata": {
        "id": "CmzNcyFu0Noo"
      },
      "source": [
        "We're ready to build our first model using pretrained word vectors. The first layer we'll add is a Keras **embedding** layer which is essentially a trainable lookup table/matrix.<br>\n",
        "https://keras.io/api/layers/base_layer/#layer-class<br>\n",
        "https://keras.io/api/layers/core_layers/embedding/<br><br>\n",
        "In this case, we'll populate the **embedding** layer with the embedding matrix we created, and set *trainable* to True. This means we'll allow the learning algorithm training the classification model to adjust/fine-tune the word vectors as needed for greater performance. This corresponds to one of the scenarios we covered in the slides."
      ]
    },
    {
      "cell_type": "code",
      "execution_count": 57,
      "metadata": {
        "id": "ALs6rkTnJ-aj"
      },
      "outputs": [],
      "source": [
        "embedding_layer = layers.Embedding(\n",
        "    num_tokens,\n",
        "    embedding_dim,\n",
        "    embeddings_initializer=keras.initializers.Constant(embedding_matrix),\n",
        "    input_length=MAX_REVIEW_LEN,\n",
        "    trainable=True\n",
        ")"
      ]
    },
    {
      "cell_type": "markdown",
      "metadata": {
        "id": "OqRgEWpb2iuI"
      },
      "source": [
        "We'll use a simple architecture for this model. Each training example is a sequence of *integers* which gets converted to a sequence of *vectors* (embeddings), but subsequent layers are expecting one vector per review. So we're inserting a **GlobalAveragePooling1D** layer after the embedding layer to average out all the word vectors into a single vector, before sending it further into the network. For classification, this can be pretty effective as a base model approach.<br>\n",
        "https://keras.io/api/layers/pooling_layers/global_average_pooling1d/<br>\n",
        "\n",
        "There was no science behind choosing 128 units in the first hidden layer and 64 units in the second hidden layer. The intuition was that the signal would be distilled from 300 dimensions down to 128 dimensions, then down to 64 dimensions before going to output.\n",
        "\n"
      ]
    },
    {
      "cell_type": "code",
      "execution_count": 58,
      "metadata": {
        "id": "1RrLd4gzbhVS"
      },
      "outputs": [],
      "source": [
        "tf.random.set_seed(0)\n",
        "\n",
        "model = keras.Sequential()\n",
        "\n",
        "# This layer will output a sequence of 300-dimension *vectors*, one for each element in the input sequence.\n",
        "model.add(embedding_layer)\n",
        "\n",
        "# This layer will calculate an average of those vectors.\n",
        "model.add(layers.GlobalAveragePooling1D())\n",
        "\n",
        "model.add(layers.Dense(128, activation='relu', kernel_initializer=tf.keras.initializers.random_normal(seed=1)))\n",
        "model.add(layers.Dense(64, activation='relu', kernel_initializer=tf.keras.initializers.random_normal(seed=1)))\n",
        "model.add(layers.Dense(1, activation='sigmoid', kernel_initializer=tf.keras.initializers.random_normal(seed=1)))\n",
        "\n",
        "model.compile(optimizer='adam',\n",
        "              loss='binary_crossentropy',\n",
        "              metrics=['accuracy'])"
      ]
    },
    {
      "cell_type": "markdown",
      "metadata": {
        "id": "dlmis9Oz4_jy"
      },
      "source": [
        "Here's an example of what's going to happen under the hood to turn review text into a single vector for the dense layers:"
      ]
    },
    {
      "cell_type": "code",
      "execution_count": 59,
      "metadata": {
        "id": "1r5K-Qqb1d-H"
      },
      "outputs": [
        {
          "name": "stdout",
          "output_type": "stream",
          "text": [
            "Review: fantastic papaya steak\n",
            "Review as sequence of integers: [[543, 5844, 305]]\n",
            "Review embeddings shape: (Batch size: 1, Sequence length: 3, Embedding size: 300)\n",
            "Average of embeddings (shape): (1, 300)\n"
          ]
        }
      ],
      "source": [
        "review = \"fantastic papaya steak\"\n",
        "print(f\"Review: {review}\")\n",
        "\n",
        "review_sequence = tokenizer.texts_to_sequences([review])\n",
        "print(f\"Review as sequence of integers: {review_sequence}\")\n",
        "\n",
        "review_embeddings = embedding_layer(np.array(review_sequence))\n",
        "print(f\"Review embeddings shape: (Batch size: {review_embeddings.shape[0]}, \\\n",
        "Sequence length: {review_embeddings.shape[1]}, \\\n",
        "Embedding size: {review_embeddings.shape[2]})\")\n",
        "\n",
        "# How our document will be presented to the rest of the neural network.\n",
        "print(f\"Average of embeddings (shape): {np.mean(review_embeddings, axis=1).shape}\")"
      ]
    },
    {
      "cell_type": "markdown",
      "metadata": {
        "id": "546ouDEv41Ea"
      },
      "source": [
        "When we call the model's *summary* method, note how there are no params for the **GlobalAveragePooling1D** layer."
      ]
    },
    {
      "cell_type": "code",
      "execution_count": 61,
      "metadata": {
        "id": "Pz31QQcb5nq5"
      },
      "outputs": [
        {
          "name": "stdout",
          "output_type": "stream",
          "text": [
            "Model: \"sequential\"\n",
            "_________________________________________________________________\n",
            " Layer (type)                Output Shape              Param #   \n",
            "=================================================================\n",
            " embedding (Embedding)       (None, 200, 300)          28023900  \n",
            "                                                                 \n",
            " global_average_pooling1d (  (None, 300)               0         \n",
            " GlobalAveragePooling1D)                                         \n",
            "                                                                 \n",
            " dense (Dense)               (None, 128)               38528     \n",
            "                                                                 \n",
            " dense_1 (Dense)             (None, 64)                8256      \n",
            "                                                                 \n",
            " dense_2 (Dense)             (None, 1)                 65        \n",
            "                                                                 \n",
            "=================================================================\n",
            "Total params: 28070749 (107.08 MB)\n",
            "Trainable params: 28070749 (107.08 MB)\n",
            "Non-trainable params: 0 (0.00 Byte)\n",
            "_________________________________________________________________\n"
          ]
        }
      ],
      "source": [
        "model.summary()"
      ]
    },
    {
      "cell_type": "markdown",
      "metadata": {
        "id": "AwGYMD028zhO"
      },
      "source": [
        "We won't use **early stopping** for this run. This way, we'll be able to compare metrics between the train and validation sets."
      ]
    },
    {
      "cell_type": "code",
      "execution_count": 62,
      "metadata": {
        "id": "oU6QBey79cis"
      },
      "outputs": [
        {
          "name": "stdout",
          "output_type": "stream",
          "text": [
            "Epoch 1/20\n",
            "167/167 [==============================] - 11s 62ms/step - loss: 0.3999 - accuracy: 0.8133 - val_loss: 0.2296 - val_accuracy: 0.9148\n",
            "Epoch 2/20\n",
            "167/167 [==============================] - 11s 64ms/step - loss: 0.1888 - accuracy: 0.9302 - val_loss: 0.2056 - val_accuracy: 0.9220\n",
            "Epoch 3/20\n",
            "167/167 [==============================] - 10s 62ms/step - loss: 0.1547 - accuracy: 0.9436 - val_loss: 0.1999 - val_accuracy: 0.9229\n",
            "Epoch 4/20\n",
            "167/167 [==============================] - 11s 63ms/step - loss: 0.1328 - accuracy: 0.9526 - val_loss: 0.2146 - val_accuracy: 0.9190\n",
            "Epoch 5/20\n",
            "167/167 [==============================] - 10s 62ms/step - loss: 0.1216 - accuracy: 0.9574 - val_loss: 0.2244 - val_accuracy: 0.9179\n",
            "Epoch 6/20\n",
            "167/167 [==============================] - 10s 63ms/step - loss: 0.1123 - accuracy: 0.9613 - val_loss: 0.2271 - val_accuracy: 0.9194\n",
            "Epoch 7/20\n",
            "167/167 [==============================] - 10s 60ms/step - loss: 0.1038 - accuracy: 0.9644 - val_loss: 0.2363 - val_accuracy: 0.9170\n",
            "Epoch 8/20\n",
            "167/167 [==============================] - 10s 62ms/step - loss: 0.0953 - accuracy: 0.9682 - val_loss: 0.2610 - val_accuracy: 0.9125\n",
            "Epoch 9/20\n",
            "167/167 [==============================] - 10s 62ms/step - loss: 0.0892 - accuracy: 0.9697 - val_loss: 0.2768 - val_accuracy: 0.9103\n",
            "Epoch 10/20\n",
            "167/167 [==============================] - 10s 61ms/step - loss: 0.0814 - accuracy: 0.9737 - val_loss: 0.2778 - val_accuracy: 0.9106\n",
            "Epoch 11/20\n",
            "167/167 [==============================] - 10s 61ms/step - loss: 0.0759 - accuracy: 0.9755 - val_loss: 0.3459 - val_accuracy: 0.8975\n",
            "Epoch 12/20\n",
            "167/167 [==============================] - 10s 60ms/step - loss: 0.0773 - accuracy: 0.9740 - val_loss: 0.4581 - val_accuracy: 0.8639\n",
            "Epoch 13/20\n",
            "167/167 [==============================] - 10s 63ms/step - loss: 0.0810 - accuracy: 0.9728 - val_loss: 0.3195 - val_accuracy: 0.9090\n",
            "Epoch 14/20\n",
            "167/167 [==============================] - 11s 63ms/step - loss: 0.0645 - accuracy: 0.9798 - val_loss: 0.3354 - val_accuracy: 0.9082\n",
            "Epoch 15/20\n",
            "167/167 [==============================] - 11s 65ms/step - loss: 0.0696 - accuracy: 0.9766 - val_loss: 0.3513 - val_accuracy: 0.9043\n",
            "Epoch 16/20\n",
            "167/167 [==============================] - 10s 62ms/step - loss: 0.0588 - accuracy: 0.9808 - val_loss: 0.3565 - val_accuracy: 0.9085\n",
            "Epoch 17/20\n",
            "167/167 [==============================] - 10s 62ms/step - loss: 0.0535 - accuracy: 0.9822 - val_loss: 0.3846 - val_accuracy: 0.9048\n",
            "Epoch 18/20\n",
            "167/167 [==============================] - 10s 63ms/step - loss: 0.0479 - accuracy: 0.9844 - val_loss: 0.5000 - val_accuracy: 0.8857\n",
            "Epoch 19/20\n",
            "167/167 [==============================] - 10s 62ms/step - loss: 0.0483 - accuracy: 0.9835 - val_loss: 0.4705 - val_accuracy: 0.8951\n",
            "Epoch 20/20\n",
            "167/167 [==============================] - 10s 62ms/step - loss: 0.0478 - accuracy: 0.9828 - val_loss: 0.4660 - val_accuracy: 0.9057\n"
          ]
        }
      ],
      "source": [
        "history = model.fit(X_train, y_train, epochs=20, batch_size=512, validation_data=(X_val, y_val))"
      ]
    },
    {
      "cell_type": "code",
      "execution_count": 63,
      "metadata": {
        "id": "Neard5tEGwnG"
      },
      "outputs": [],
      "source": [
        "def plot_train_vs_val_performance(history):\n",
        "  training_losses = history.history['loss']\n",
        "  validation_losses = history.history['val_loss']\n",
        "\n",
        "  training_accuracy = history.history['accuracy']\n",
        "  validation_accuracy = history.history['val_accuracy']\n",
        "\n",
        "  epochs = range(1, len(training_losses) + 1)\n",
        "\n",
        "  import matplotlib.pyplot as plt\n",
        "  fig, (ax1, ax2) = plt.subplots(2)\n",
        "  fig.set_figheight(15)\n",
        "  fig.set_figwidth(15)\n",
        "  fig.tight_layout(pad=5.0)\n",
        "\n",
        "  # Plot training vs. validation loss.\n",
        "  ax1.plot(epochs, training_losses, 'bo', label='Training Loss')\n",
        "  ax1.plot(epochs, validation_losses, 'b', label='Validation Loss')\n",
        "  ax1.title.set_text('Training vs. Validation Loss')\n",
        "  ax1.set_xlabel('Epoch')\n",
        "  ax1.set_ylabel('Loss')\n",
        "  ax1.legend()\n",
        "\n",
        "  # PLot training vs. validation accuracy.\n",
        "  ax2.plot(epochs, training_accuracy, 'bo', label='Training Accuracy')\n",
        "  ax2.plot(epochs, validation_accuracy, 'b', label='Validation Accuracy')\n",
        "  ax2.title.set_text('Training vs. Validation Accuracy')\n",
        "  ax2.set_xlabel('Epoch')\n",
        "  ax2.set_ylabel('Accuracy')\n",
        "  ax2.legend()\n",
        "\n",
        "  plt.show()"
      ]
    },
    {
      "cell_type": "code",
      "execution_count": 64,
      "metadata": {
        "id": "lbSk2qE1cEfS"
      },
      "outputs": [
        {
          "data": {
            "image/png": "[encoded data removed]",
            "text/plain": [
              "<Figure size 1500x1500 with 2 Axes>"
            ]
          },
          "metadata": {},
          "output_type": "display_data"
        }
      ],
      "source": [
        "plot_train_vs_val_performance(history)"
      ]
    },
    {
      "cell_type": "markdown",
      "metadata": {
        "id": "xdeEdLD6W91U"
      },
      "source": [
        "We'll initialize a new embedding layer and model and train for epochs equalling the point where we saw the validation loss diverge from the training loss.<br>\n",
        "\n",
        "**NOTE**: We need to initialize a new embedding layer here because we set the *learnable* parameter to **True** in the previous embedding layer. This means the previous embeddings were almost certainly updated by the learning algorithm. So we're re-training a new model now with the original embeddings."
      ]
    },
    {
      "cell_type": "code",
      "execution_count": 65,
      "metadata": {
        "id": "V_nWiYy6cEbJ"
      },
      "outputs": [
        {
          "name": "stdout",
          "output_type": "stream",
          "text": [
            "Epoch 1/3\n",
            "167/167 [==============================] - 11s 66ms/step - loss: 0.3649 - accuracy: 0.8382 - val_loss: 0.2224 - val_accuracy: 0.9175\n",
            "Epoch 2/3\n",
            "167/167 [==============================] - 11s 63ms/step - loss: 0.1817 - accuracy: 0.9328 - val_loss: 0.2019 - val_accuracy: 0.9220\n",
            "Epoch 3/3\n",
            "167/167 [==============================] - 10s 63ms/step - loss: 0.1478 - accuracy: 0.9452 - val_loss: 0.1964 - val_accuracy: 0.9233\n"
          ]
        },
        {
          "data": {
            "text/plain": [
              "<keras.src.callbacks.History at 0x36eb2fa30>"
            ]
          },
          "execution_count": 65,
          "metadata": {},
          "output_type": "execute_result"
        }
      ],
      "source": [
        "embedding_layer = layers.Embedding(\n",
        "    num_tokens,\n",
        "    embedding_dim,\n",
        "    embeddings_initializer=keras.initializers.Constant(embedding_matrix),\n",
        "    input_length=MAX_REVIEW_LEN,\n",
        "    trainable=True\n",
        ")\n",
        "\n",
        "model = keras.Sequential()\n",
        "model.add(embedding_layer)\n",
        "model.add(layers.GlobalAveragePooling1D())\n",
        "model.add(layers.Dense(128, activation='relu'))\n",
        "model.add(layers.Dense(64, activation='relu'))\n",
        "model.add(layers.Dense(1, activation='sigmoid'))\n",
        "\n",
        "model.compile(optimizer='adam',\n",
        "              loss='binary_crossentropy',\n",
        "              metrics=['accuracy'])\n",
        "\n",
        "model.fit(X_train, y_train, epochs=3, batch_size=512, validation_data=(X_val, y_val))"
      ]
    },
    {
      "cell_type": "markdown",
      "metadata": {
        "id": "_4X_sdScYPAP"
      },
      "source": [
        "Now that we have a trained model, let's try it on the test data. As we did with the training data, we'll:\n",
        "1. Replace the labels with 0 for negative sentiment, and 1 for positive.\n",
        "2. Convert the reviews into a sequence of integers and pad/truncate each review to a fixed length."
      ]
    },
    {
      "cell_type": "code",
      "execution_count": 77,
      "metadata": {
        "id": "AUsripS7SZdk"
      },
      "outputs": [],
      "source": [
        "yelp_test = pd.read_csv('yelp_review_polarity_csv/test.csv', names=['sentiment', 'review'])"
      ]
    },
    {
      "cell_type": "code",
      "execution_count": 78,
      "metadata": {
        "id": "bm4Day_jYbTe"
      },
      "outputs": [
        {
          "data": {
            "text/html": [
              "<div>\n",
              "<style scoped>\n",
              "    .dataframe tbody tr th:only-of-type {\n",
              "        vertical-align: middle;\n",
              "    }\n",
              "\n",
              "    .dataframe tbody tr th {\n",
              "        vertical-align: top;\n",
              "    }\n",
              "\n",
              "    .dataframe thead th {\n",
              "        text-align: right;\n",
              "    }\n",
              "</style>\n",
              "<table border=\"1\" class=\"dataframe\">\n",
              "  <thead>\n",
              "    <tr style=\"text-align: right;\">\n",
              "      <th></th>\n",
              "      <th>sentiment</th>\n",
              "      <th>review</th>\n",
              "    </tr>\n",
              "  </thead>\n",
              "  <tbody>\n",
              "    <tr>\n",
              "      <th>0</th>\n",
              "      <td>1</td>\n",
              "      <td>Contrary to other reviews, I have zero complai...</td>\n",
              "    </tr>\n",
              "    <tr>\n",
              "      <th>1</th>\n",
              "      <td>0</td>\n",
              "      <td>Last summer I had an appointment to get new ti...</td>\n",
              "    </tr>\n",
              "    <tr>\n",
              "      <th>2</th>\n",
              "      <td>1</td>\n",
              "      <td>Friendly staff, same starbucks fair you get an...</td>\n",
              "    </tr>\n",
              "    <tr>\n",
              "      <th>3</th>\n",
              "      <td>0</td>\n",
              "      <td>The food is good. Unfortunately the service is...</td>\n",
              "    </tr>\n",
              "    <tr>\n",
              "      <th>4</th>\n",
              "      <td>1</td>\n",
              "      <td>Even when we didn't have a car Filene's Baseme...</td>\n",
              "    </tr>\n",
              "  </tbody>\n",
              "</table>\n",
              "</div>"
            ],
            "text/plain": [
              "   sentiment                                             review\n",
              "0          1  Contrary to other reviews, I have zero complai...\n",
              "1          0  Last summer I had an appointment to get new ti...\n",
              "2          1  Friendly staff, same starbucks fair you get an...\n",
              "3          0  The food is good. Unfortunately the service is...\n",
              "4          1  Even when we didn't have a car Filene's Baseme..."
            ]
          },
          "execution_count": 78,
          "metadata": {},
          "output_type": "execute_result"
        }
      ],
      "source": [
        "yelp_test['sentiment'].replace(to_replace=1, value=0, inplace=True)\n",
        "yelp_test['sentiment'].replace(to_replace=2, value=1, inplace=True)\n",
        "yelp_test.head()"
      ]
    },
    {
      "cell_type": "code",
      "execution_count": 79,
      "metadata": {
        "id": "Qks0uXyzYbTe"
      },
      "outputs": [
        {
          "name": "stdout",
          "output_type": "stream",
          "text": [
            "[1 0 1 ... 0 0 0]\n"
          ]
        }
      ],
      "source": [
        "y_test = np.array(yelp_test['sentiment'])\n",
        "print(y_test)"
      ]
    },
    {
      "cell_type": "code",
      "execution_count": 69,
      "metadata": {
        "id": "-UyBts6EYbTe"
      },
      "outputs": [],
      "source": [
        "X_test = tokenizer.texts_to_sequences(yelp_test['review'])"
      ]
    },
    {
      "cell_type": "code",
      "execution_count": 70,
      "metadata": {
        "id": "loh2rh3WYbTe"
      },
      "outputs": [],
      "source": [
        "X_test = keras.preprocessing.sequence.pad_sequences(X_test, maxlen=MAX_REVIEW_LEN)"
      ]
    },
    {
      "cell_type": "code",
      "execution_count": 71,
      "metadata": {
        "id": "yKmqmLUkYbTf"
      },
      "outputs": [
        {
          "name": "stdout",
          "output_type": "stream",
          "text": [
            "1188/1188 [==============================] - 2s 2ms/step - loss: 0.1865 - accuracy: 0.9298\n"
          ]
        },
        {
          "data": {
            "text/plain": [
              "[0.18649853765964508, 0.9298421144485474]"
            ]
          },
          "execution_count": 71,
          "metadata": {},
          "output_type": "execute_result"
        }
      ],
      "source": [
        "model.evaluate(X_test, y_test)"
      ]
    },
    {
      "cell_type": "markdown",
      "metadata": {
        "id": "9GBMe-YKZCDP"
      },
      "source": [
        "Not bad for a conceptually simple model where we average out a review's word vectors, run it through a few plain hidden layers, and out through a sigmoid function with no regularization and just using defaults for model components (e.g. optimizer settings).<br><br>\n",
        "We can now use the model for predictions."
      ]
    },
    {
      "cell_type": "code",
      "execution_count": 72,
      "metadata": {
        "id": "rNbNyr8PVJMv"
      },
      "outputs": [],
      "source": [
        "def sentiment(reviews):\n",
        "  seqs = tokenizer.texts_to_sequences(reviews)\n",
        "  seqs = keras.preprocessing.sequence.pad_sequences(seqs, maxlen=MAX_REVIEW_LEN)\n",
        "  return model.predict(seqs)\n"
      ]
    },
    {
      "cell_type": "code",
      "execution_count": 80,
      "metadata": {
        "id": "Jy-4MWV1VJRA"
      },
      "outputs": [],
      "source": [
        "# Real reviews from Google Reviews.\n",
        "pos_review = \"The best seafood joint in East Village San Diego!  Great lobster roll, great fish, great oysters, great bread, great cocktails, and such amazing service.  The atmosphere is top notch and the location is so much fun being located just a block away from Petco Park (San Diego Padres Stadium).\"\n",
        "neg_review = \"A thoroughly disappointing experience. When you book a Marriott you expect a certain standard. Albany falls way short. Room cleaning has to be booked 24 hours in advance but nobody thought to mention this at check in. The hotel is tired and needs a face-lift. The only bright light in a sea of mediocrity were the pancakes at breakfast. Sadly they weren't enough to save the experience. If you travel to Albany, then do yourself a big favour and book the Westin.\""
      ]
    },
    {
      "cell_type": "code",
      "execution_count": 74,
      "metadata": {
        "id": "wH8b-Z3GVJU3"
      },
      "outputs": [
        {
          "name": "stdout",
          "output_type": "stream",
          "text": [
            "1/1 [==============================] - 0s 45ms/step\n",
            "[[0.99967873]\n",
            " [0.00579425]]\n"
          ]
        }
      ],
      "source": [
        "print(sentiment([pos_review, neg_review]))"
      ]
    },
    {
      "cell_type": "markdown",
      "metadata": {
        "id": "EUX0AZqYbt1y"
      },
      "source": [
        "# Training New Embeddings and a Model at the Same Time"
      ]
    },
    {
      "cell_type": "markdown",
      "metadata": {
        "id": "-ek2bnbCVJbv"
      },
      "source": [
        "For this last model, rather than using pretrained embeddings, we'll start with a **random** embedding matrix and let the model come up with its own vectors simultaneously while fitting the training data.<br><br>\n",
        "We'll also use **early stopping**, but otherwise keep everything else the same."
      ]
    },
    {
      "cell_type": "code",
      "execution_count": 81,
      "metadata": {
        "id": "wCy90PyxVJfK"
      },
      "outputs": [
        {
          "name": "stdout",
          "output_type": "stream",
          "text": [
            "Epoch 1/20\n",
            "167/167 [==============================] - 10s 61ms/step - loss: 0.4261 - accuracy: 0.7821 - val_loss: 0.2251 - val_accuracy: 0.9137\n",
            "Epoch 2/20\n",
            "167/167 [==============================] - 10s 62ms/step - loss: 0.1843 - accuracy: 0.9304 - val_loss: 0.2102 - val_accuracy: 0.9171\n",
            "Epoch 3/20\n",
            "167/167 [==============================] - 10s 63ms/step - loss: 0.1497 - accuracy: 0.9458 - val_loss: 0.2021 - val_accuracy: 0.9216\n",
            "Epoch 4/20\n",
            "167/167 [==============================] - 10s 61ms/step - loss: 0.1310 - accuracy: 0.9534 - val_loss: 0.2115 - val_accuracy: 0.9198\n",
            "Epoch 5/20\n",
            "167/167 [==============================] - 10s 61ms/step - loss: 0.1194 - accuracy: 0.9587 - val_loss: 0.2257 - val_accuracy: 0.9178\n",
            "Epoch 6/20\n",
            "167/167 [==============================] - 10s 62ms/step - loss: 0.1100 - accuracy: 0.9620 - val_loss: 0.2318 - val_accuracy: 0.9187\n"
          ]
        }
      ],
      "source": [
        "tf.random.set_seed(0)\n",
        "\n",
        "model = keras.Sequential()\n",
        "\n",
        "# The 'trainable' property is True by default.\n",
        "model.add(layers.Embedding(input_dim=num_tokens,\n",
        "                           output_dim=embedding_dim,\n",
        "                           input_length=MAX_REVIEW_LEN))\n",
        "\n",
        "\n",
        "model.add(layers.GlobalAveragePooling1D())\n",
        "model.add(layers.Dense(128, activation='relu', kernel_initializer=tf.keras.initializers.random_normal(seed=1)))\n",
        "model.add(layers.Dense(64, activation='relu', kernel_initializer=tf.keras.initializers.random_normal(seed=1)))\n",
        "model.add(layers.Dense(1, activation='sigmoid', kernel_initializer=tf.keras.initializers.random_normal(seed=1)))\n",
        "\n",
        "model.compile(optimizer='adam',\n",
        "              loss='binary_crossentropy',\n",
        "              metrics=['accuracy'])\n",
        "\n",
        "es_callback = keras.callbacks.EarlyStopping(monitor='val_loss', patience=3)\n",
        "history = model.fit(X_train, y_train, epochs=20, batch_size=512, validation_data=(X_val, y_val), callbacks=[es_callback])"
      ]
    },
    {
      "cell_type": "code",
      "execution_count": 82,
      "metadata": {
        "id": "5dL0GwLUVJio"
      },
      "outputs": [
        {
          "name": "stdout",
          "output_type": "stream",
          "text": [
            "1188/1188 [==============================] - 2s 2ms/step - loss: 0.2172 - accuracy: 0.9217\n"
          ]
        },
        {
          "data": {
            "text/plain": [
              "[0.21716929972171783, 0.9217368364334106]"
            ]
          },
          "execution_count": 82,
          "metadata": {},
          "output_type": "execute_result"
        }
      ],
      "source": [
        "model.evaluate(X_test, y_test)"
      ]
    },
    {
      "cell_type": "markdown",
      "metadata": {
        "id": "n3Uy8zP-0WUI"
      },
      "source": [
        "It looks like in this case, we get comparable performance between fine-tuning pretrained vectors and training embeddings from scratch as part of the model; likely because of the nature of the data and amount of it."
      ]
    },
    {
      "cell_type": "markdown",
      "metadata": {
        "id": "Si2Nx7NSfl1V"
      },
      "source": [
        "# Try This"
      ]
    },
    {
      "cell_type": "markdown",
      "metadata": {
        "id": "FsQYls6a0zH2"
      },
      "source": [
        "In our first model, we used pretrained vectors in the **embedding layer** and set the *trainable* property to **True**, allowing the model to fine-tune the word vectors.<br><br>\n",
        "Instantiate the same model but this time, set the *trainable* property in the **embedding layer** to **False**. What happens to training performance? Does the training speed increase or decrease? What happens if you try to add some regularization like dropout?<br>\n",
        "\n",
        "Other things you can try to see what happens: reduce the number of units, use a slower learning rate, reduce the number of hidden layers, reduce vocabulary, reduce embedding dimensions, use regularization, use a shorter sequence length."
      ]
    },
    {
      "cell_type": "code",
      "execution_count": 83,
      "metadata": {
        "id": "28u6ssTzflcE"
      },
      "outputs": [],
      "source": [
        "# Instantiate the embedding layer.\n",
        "\n",
        "\n",
        "model = keras.Sequential()\n",
        "\n",
        "# Add layers.\n",
        "\n",
        "\n",
        "# Compile model.\n",
        "\n",
        "\n",
        "# Call fit.\n",
        "\n",
        "\n",
        "# Evaluate the model.\n"
      ]
    },
    {
      "cell_type": "markdown",
      "metadata": {
        "id": "TgJM0Flw6Imq"
      },
      "source": [
        "# Alternative Static Embedding Algorithms"
      ]
    },
    {
      "cell_type": "markdown",
      "metadata": {
        "id": "Xcq27-hYKdMh"
      },
      "source": [
        "## GloVe\n",
        "**GloVe (Global Vectors for Word Representation)** is another algorithm for creating static word vectors. You can read the original GloVe paper and download pretrained word vectors here:<br>\n",
        "https://nlp.stanford.edu/projects/glove/"
      ]
    },
    {
      "cell_type": "markdown",
      "metadata": {
        "id": "331buv_FK4nQ"
      },
      "source": [
        "## Doc2Vec\n",
        "An algorithm which represents a document as a dense vector which addresses weaknesses of bag-of-words models.<br>\n",
        "https://arxiv.org/abs/1405.4053<br>\n",
        "https://radimrehurek.com/gensim/models/doc2vec.html<br>"
      ]
    },
    {
      "cell_type": "markdown",
      "metadata": {
        "id": "aRq8HklIg2Gu"
      },
      "source": [
        "## fastText\n",
        "An alternative approach to creating embeddings. Instead of assigning a vector to each _word_ (e.g. a separate vector each for \"dog\" and \"dogs\"), a vector is assigned to each _subword_. For fastText, a subword is defined as a character n-gram.\n",
        "<br><br>\n",
        "So if n=3, then a word like \"hello\" would result in vectors for \"<he\", \"hel\", \"ell\", \"llo\", \"lo>\" (note that \"<\" and \">\" are special characters). The vector for \"hello\" would be the sum of all the above vectors. This helps deal with OOV situations because vectors can still be assigned to unseen words as long as the n-grams exist in the vocabulary.<br>\n",
        "https://fasttext.cc/<br>\n",
        "https://radimrehurek.com/gensim/models/fasttext.html\n",
        "<br><br>\n",
        "**We'll cover subword tokenization in greater detail later in the course.**"
      ]
    }
  ],
  "metadata": {
    "accelerator": "GPU",
    "colab": {
      "name": "nlpdemystified-word-vectors.ipynb",
      "private_outputs": true,
      "provenance": []
    },
    "gpuClass": "standard",
    "kernelspec": {
      "display_name": "Python 3",
      "name": "python3"
    },
    "language_info": {
      "codemirror_mode": {
        "name": "ipython",
        "version": 3
      },
      "file_extension": ".py",
      "mimetype": "text/x-python",
      "name": "python",
      "nbconvert_exporter": "python",
      "pygments_lexer": "ipython3",
      "version": "3.10.8"
    }
  },
  "nbformat": 4,
  "nbformat_minor": 0
}
